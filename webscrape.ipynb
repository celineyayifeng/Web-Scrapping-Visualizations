{
 "cells": [
  {
   "cell_type": "markdown",
   "id": "fa17e739-8135-47f2-aeff-585272e1b12c",
   "metadata": {},
   "source": [
    "# First I will scrape from just one page to see how that works\n",
    "\n",
    "The page I will scrape from has URL: https://www.guide2research.com/conference/asp-dac-2022-asia-and-south-pacific-design-automation-conference"
   ]
  },
  {
   "cell_type": "code",
   "execution_count": 23,
   "id": "312ef693-ea70-4702-a6fc-782236adc077",
   "metadata": {},
   "outputs": [],
   "source": [
    "import pandas as pd\n",
    "import numpy as np\n",
    "from bs4 import BeautifulSoup\n",
    "import requests\n",
    "import json \n",
    "import re"
   ]
  },
  {
   "cell_type": "code",
   "execution_count": 83,
   "id": "20e4ad29-efb7-4dd6-9cf6-19a0a3667eb1",
   "metadata": {},
   "outputs": [
    {
     "data": {
      "text/plain": [
       "<Response [200]>"
      ]
     },
     "execution_count": 83,
     "metadata": {},
     "output_type": "execute_result"
    }
   ],
   "source": [
    "url = \"https://www.guide2research.com/conference/aivr-2021-ieee-international-conference-on-artificial-intelligence-and-virtual-reality\"\n",
    "r = requests.get(url, headers={'user-agent': 'Yayi Feng (yf7qq@virginia.edu) for Data Science 6001 at University of Virginia'})\n",
    "r"
   ]
  },
  {
   "cell_type": "code",
   "execution_count": 84,
   "id": "28c9c168-7738-49eb-a817-2c9b510f2276",
   "metadata": {},
   "outputs": [],
   "source": [
    "aspconf = BeautifulSoup(r.text)"
   ]
  },
  {
   "cell_type": "code",
   "execution_count": 85,
   "id": "9b159bc5-0020-4486-8269-a5c3d33f71c5",
   "metadata": {},
   "outputs": [
    {
     "data": {
      "text/plain": [
       "[<p>Research in Virtual Reality (VR) is concerned with computing technologies that allow humans to see, hear, talk, think, learn, and solve problems in virtual and augmented environments. Research in Artificial Intelligence (AI) addresses technologies that allow computing machines to mimic these same human abilities. Although these two fields evolved separately, they share an interest in human senses, skills, and knowledge production. Thus, bringing them together will enable us to create more natural and realistic virtual worlds and develop better, more effective applications. Ultimately, this will lead to a future in which humans and humans, humans and machines, and machines and machines are interacting naturally in virtual worlds, with use cases and benefits we are only just beginning to imagine.<br/>\n",
       " IEEE International Conference on Artificial Intelligence and Virtual Reality (AIVR) is a unique event, addressing researchers and industries from all areas of AI as well as Virtual, Augmented, and Mixed Reality. It provides an international forum for the exchange between those fields, to present advances in the state of the art, identify emerging research topics, and together define the future of these exciting research domains. We invite researchers from Virtual, as well as Augmented Reality (AR) and Mixed Reality (MR) to participate and submit their work to the program. Likewise, any work on AI that has a relation to any of these fields or potential for the usage in any of them is welcome.</p>,\n",
       " <p class=\"sib-email-area\">\n",
       " <label class=\"sib-email-area\">Email Address*</label>\n",
       " <input class=\"sib-email-area\" name=\"email\" required=\"required\" type=\"email\"/>\n",
       " </p>,\n",
       " <p class=\"sib-privacy-policy\" style=\"\n",
       " \">Guide2Research uses the information to contact you about our relevant content. For more information, check out our <a href=\"https://www.guide2research.com/privacy-policy\" title=\"Privacy policy\">privacy policy</a>.</p>,\n",
       " <p>\n",
       " <input class=\"sib-default-btn\" type=\"submit\" value=\"Subscribe\"/>\n",
       " </p>]"
      ]
     },
     "execution_count": 85,
     "metadata": {},
     "output_type": "execute_result"
    }
   ],
   "source": [
    "aspconf.find_all('p')"
   ]
  },
  {
   "cell_type": "markdown",
   "id": "bf82a964-3e9f-41e6-9e13-af50e20d388a",
   "metadata": {},
   "source": [
    "## Extract feature: conference name"
   ]
  },
  {
   "cell_type": "code",
   "execution_count": 86,
   "id": "20eb4b2b-1329-4312-bb5e-364c4cdd1bf3",
   "metadata": {},
   "outputs": [
    {
     "data": {
      "text/plain": [
       "'AIVR 2021 : IEEE International Conference on Artificial Intelligence and Virtual Reality'"
      ]
     },
     "execution_count": 86,
     "metadata": {},
     "output_type": "execute_result"
    }
   ],
   "source": [
    "nametag = aspconf.title\n",
    "name = nametag.text.split(' «')[0]\n",
    "name"
   ]
  },
  {
   "cell_type": "markdown",
   "id": "429b22a0-e0d4-407f-ab40-39b08c9cce65",
   "metadata": {},
   "source": [
    "## Extract feature: submission deadline"
   ]
  },
  {
   "cell_type": "code",
   "execution_count": 87,
   "id": "8b744113-9ce0-49f5-ab09-202916fbdbe5",
   "metadata": {},
   "outputs": [
    {
     "data": {
      "text/plain": [
       "'Thursday 15 Jul 2021'"
      ]
     },
     "execution_count": 87,
     "metadata": {},
     "output_type": "execute_result"
    }
   ],
   "source": [
    "submissiontag = aspconf.find(\"td\", text=re.compile('Submission Deadline'))\n",
    "submissiontag = submissiontag.find_next()\n",
    "submit = submissiontag.text.replace(\"\\n\",\"\")\n",
    "submit"
   ]
  },
  {
   "cell_type": "markdown",
   "id": "59f9341f-0644-4002-b6b4-7fda3cfb0e5c",
   "metadata": {},
   "source": [
    "## Extract feature: conference date"
   ]
  },
  {
   "cell_type": "code",
   "execution_count": 88,
   "id": "e89a4234-6c7a-497c-a8d9-55f66e8dea8d",
   "metadata": {},
   "outputs": [
    {
     "data": {
      "text/plain": [
       "'Nov 15, 2021 - Nov 17, 2021'"
      ]
     },
     "execution_count": 88,
     "metadata": {},
     "output_type": "execute_result"
    }
   ],
   "source": [
    "datetag = aspconf.find(\"td\", text=re.compile('Conference Date'))\n",
    "datetag = datetag.find_next()\n",
    "date = datetag.text.replace(\"\\n\",\"\")\n",
    "date = date.replace(\"\\t\",\"\")\n",
    "date"
   ]
  },
  {
   "cell_type": "markdown",
   "id": "19c53026-625d-4676-bbbb-075218692a41",
   "metadata": {},
   "source": [
    "## Extract feature: conference location"
   ]
  },
  {
   "cell_type": "code",
   "execution_count": 89,
   "id": "4eb2d434-9b07-4dcc-a5ad-ecd92ab26d9b",
   "metadata": {},
   "outputs": [
    {
     "data": {
      "text/plain": [
       "'Taichung, Taiwan'"
      ]
     },
     "execution_count": 89,
     "metadata": {},
     "output_type": "execute_result"
    }
   ],
   "source": [
    "loctag = aspconf.find(\"td\", text=re.compile('Conference Address'))\n",
    "loctag = loctag.find_next()\n",
    "loc = loctag.text.strip()\n",
    "loc"
   ]
  },
  {
   "cell_type": "markdown",
   "id": "def8ea1c-dc34-4825-960e-58ea5211c85a",
   "metadata": {},
   "source": [
    "## Extract feature: conference and submission link"
   ]
  },
  {
   "cell_type": "code",
   "execution_count": 90,
   "id": "e7f69bac-ef57-43f2-8fd0-6c1158c25bfb",
   "metadata": {},
   "outputs": [
    {
     "data": {
      "text/plain": [
       "'http://www.ieee-aivr.org/'"
      ]
     },
     "execution_count": 90,
     "metadata": {},
     "output_type": "execute_result"
    }
   ],
   "source": [
    "linktag = aspconf.find(\"td\", text=re.compile('Conference & Submission Link'))\n",
    "linktag = linktag.find_next()\n",
    "link = linktag.text.strip()\n",
    "link"
   ]
  },
  {
   "cell_type": "code",
   "execution_count": 91,
   "id": "28fe5c64-1839-49cb-9a80-608ba83ef185",
   "metadata": {},
   "outputs": [
    {
     "data": {
      "text/html": [
       "<div>\n",
       "<style scoped>\n",
       "    .dataframe tbody tr th:only-of-type {\n",
       "        vertical-align: middle;\n",
       "    }\n",
       "\n",
       "    .dataframe tbody tr th {\n",
       "        vertical-align: top;\n",
       "    }\n",
       "\n",
       "    .dataframe thead th {\n",
       "        text-align: right;\n",
       "    }\n",
       "</style>\n",
       "<table border=\"1\" class=\"dataframe\">\n",
       "  <thead>\n",
       "    <tr style=\"text-align: right;\">\n",
       "      <th></th>\n",
       "      <th>0</th>\n",
       "      <th>1</th>\n",
       "      <th>2</th>\n",
       "    </tr>\n",
       "  </thead>\n",
       "  <tbody>\n",
       "    <tr>\n",
       "      <th>0</th>\n",
       "      <td>Submission Deadline</td>\n",
       "      <td>Thursday 15 Jul 2021</td>\n",
       "      <td>Proceedings indexed by :</td>\n",
       "    </tr>\n",
       "    <tr>\n",
       "      <th>1</th>\n",
       "      <td>Conference Dates</td>\n",
       "      <td>Nov 15, 2021 - Nov 17, 2021</td>\n",
       "      <td>Proceedings indexed by :</td>\n",
       "    </tr>\n",
       "    <tr>\n",
       "      <th>2</th>\n",
       "      <td>Conference Address</td>\n",
       "      <td>Taichung, Taiwan</td>\n",
       "      <td>Proceedings indexed by :</td>\n",
       "    </tr>\n",
       "    <tr>\n",
       "      <th>3</th>\n",
       "      <td>Conference &amp; Submission Link</td>\n",
       "      <td>http://www.ieee-aivr.org/</td>\n",
       "      <td>http://www.ieee-aivr.org/</td>\n",
       "    </tr>\n",
       "  </tbody>\n",
       "</table>\n",
       "</div>"
      ],
      "text/plain": [
       "                              0                            1  \\\n",
       "0           Submission Deadline         Thursday 15 Jul 2021   \n",
       "1              Conference Dates  Nov 15, 2021 - Nov 17, 2021   \n",
       "2            Conference Address             Taichung, Taiwan   \n",
       "3  Conference & Submission Link    http://www.ieee-aivr.org/   \n",
       "\n",
       "                           2  \n",
       "0   Proceedings indexed by :  \n",
       "1   Proceedings indexed by :  \n",
       "2   Proceedings indexed by :  \n",
       "3  http://www.ieee-aivr.org/  "
      ]
     },
     "execution_count": 91,
     "metadata": {},
     "output_type": "execute_result"
    }
   ],
   "source": [
    "table = aspconf.find_all('table')\n",
    "df = pd.read_html(str(table))[0]\n",
    "df"
   ]
  },
  {
   "cell_type": "code",
   "execution_count": 125,
   "id": "eb3bdb14-aa2f-4e07-853a-fcb04b6e6bb0",
   "metadata": {},
   "outputs": [
    {
     "data": {
      "text/plain": [
       "{1: {'Impact Score': 0.82,\n",
       "  '#Contributing Top Scientists': 8.0,\n",
       "  '#Papers published by Top Scientists': 10.0,\n",
       "  'Google Scholar H5-index': 4.0}}"
      ]
     },
     "execution_count": 125,
     "metadata": {},
     "output_type": "execute_result"
    }
   ],
   "source": [
    "table = aspconf.find_all('table')\n",
    "df1 = pd.read_html(str(table[1]))[1]\n",
    "df1.index = df1.iloc[0:,0]\n",
    "df1 = df1.drop(columns=0)\n",
    "df1 = df1.to_dict()\n",
    "df1"
   ]
  },
  {
   "cell_type": "code",
   "execution_count": 124,
   "id": "a0cd6848-2da0-4848-84ae-088c423cb1d9",
   "metadata": {},
   "outputs": [
    {
     "data": {
      "text/plain": [
       "{1: {'Impact Score': 0.82,\n",
       "  '#Contributing Top Scientists': 8.0,\n",
       "  '#Papers published by Top Scientists': 10.0,\n",
       "  'Google Scholar H5-index': 4.0}}"
      ]
     },
     "execution_count": 124,
     "metadata": {},
     "output_type": "execute_result"
    }
   ],
   "source": [
    "table = aspconf.find_all('table')\n",
    "df2 = pd.read_html(str(table))[2]\n",
    "df2.index = df2.iloc[0:,0]\n",
    "df2 = df2.drop(columns=0).to_dict()\n",
    "df2"
   ]
  },
  {
   "cell_type": "code",
   "execution_count": 62,
   "id": "9059974f-897a-46b8-9def-8edf062b63ac",
   "metadata": {},
   "outputs": [
    {
     "data": {
      "text/plain": [
       "['Hardware, Robotics & Electronics',\n",
       " 'Signal Processing',\n",
       " 'Software Engineering & Programming']"
      ]
     },
     "execution_count": 62,
     "metadata": {},
     "output_type": "execute_result"
    }
   ],
   "source": [
    "subjecttags = aspconf.find_all(\"i\")\n",
    "subjects = [x.a for x in subjecttags if x.a is not None]\n",
    "subs = [i.text for i in subjects[2:]]\n",
    "subs"
   ]
  },
  {
   "cell_type": "markdown",
   "id": "7e96b5a2-cbec-43c0-a156-45c4d8e42e41",
   "metadata": {},
   "source": [
    "## Bringing all to one dictionary"
   ]
  },
  {
   "cell_type": "code",
   "execution_count": 112,
   "id": "1e92931f-cea7-4652-a06f-b47a94b50fbb",
   "metadata": {},
   "outputs": [
    {
     "data": {
      "text/plain": [
       "{'conference name': 'AIVR 2021 : IEEE International Conference on Artificial Intelligence and Virtual Reality',\n",
       " 'submission date': 'Thursday 15 Jul 2021',\n",
       " 'conference date': 'Nov 15, 2021 - Nov 17, 2021',\n",
       " 'conference location': 'Taichung, Taiwan',\n",
       " 'conference and submission link': 'http://www.ieee-aivr.org/',\n",
       " 'impact score': None,\n",
       " 'contributing top scientists': 8.0,\n",
       " 'papers published by top scientists': 10.0,\n",
       " 'Google scholar H5-index': 4.0,\n",
       " 'Number of editions': None,\n",
       " 'subjects': ['Hardware, Robotics & Electronics',\n",
       "  'Signal Processing',\n",
       "  'Software Engineering & Programming']}"
      ]
     },
     "execution_count": 112,
     "metadata": {},
     "output_type": "execute_result"
    }
   ],
   "source": [
    "datadict = {'conference name': name,\n",
    "           'submission date' : submit,\n",
    "           'conference date': date,\n",
    "           'conference location': loc,\n",
    "           'conference and submission link': link,\n",
    "           'impact score': df1[1].get('impact score'),\n",
    "           'contributing top scientists': df1[1].get('#Contributing Top Scientists'),\n",
    "           'papers published by top scientists': df1[1].get('#Papers published by Top Scientists'),\n",
    "           'Google scholar H5-index': df1[1].get('Google Scholar H5-index'),\n",
    "           'Number of editions': df1[1].get('Number of Editions'),\n",
    "           'subjects': subs}\n",
    "datadict"
   ]
  },
  {
   "cell_type": "markdown",
   "id": "3b19535a-4d33-4996-9a0d-fd1cfa19b386",
   "metadata": {},
   "source": [
    "## Put all the code to scrape one page into a function:\n",
    "input: URL\n",
    "Output: dictionary with the data we want"
   ]
  },
  {
   "cell_type": "code",
   "execution_count": 137,
   "id": "384559fa-0d61-4daa-8158-604da1145163",
   "metadata": {},
   "outputs": [],
   "source": [
    "def scrape_one_conference(url):\n",
    "    \n",
    "    print('Now scraping from' + url)\n",
    "    \n",
    "    r = requests.get(url, headers={'user-agent': 'Yayi Feng (yf7qq@virginia.edu) for Data Science 6001 at University of Virginia'})\n",
    "    aspconf = BeautifulSoup(r.text)\n",
    "    \n",
    "    nametag = aspconf.title\n",
    "    name = nametag.text.split(' «')[0]\n",
    "    \n",
    "    submissiontag = aspconf.find(\"td\", text=re.compile('Submission Deadline'))\n",
    "    submissiontag = submissiontag.find_next()\n",
    "    submit = submissiontag.text.replace(\"\\n\",\"\")\n",
    "    \n",
    "    datetag = aspconf.find(\"td\", text=re.compile('Conference Date'))\n",
    "    datetag = datetag.find_next()\n",
    "    date = datetag.text.replace(\"\\n\",\"\")\n",
    "    date = date.replace(\"\\t\",\"\")\n",
    "    \n",
    "    loctag = aspconf.find(\"td\", text=re.compile('Conference Address'))\n",
    "    loctag = loctag.find_next()\n",
    "    loc = loctag.text.strip()\n",
    "    \n",
    "        \n",
    "    linktag = aspconf.find(\"td\", text=re.compile('Conference & Submission Link'))\n",
    "    linktag = linktag.find_next()\n",
    "    link = linktag.text.strip()\n",
    "    \n",
    "    table = aspconf.find_all('table')\n",
    "    df2 = pd.read_html(str(table))[2]\n",
    "    df2.index = df2.iloc[0:,0]\n",
    "    df2 = df2.drop(columns=0).to_dict()\n",
    "    \n",
    "    subjecttags = aspconf.find_all(\"i\")\n",
    "    subjects = [x.a for x in subjecttags if x.a is not None]\n",
    "    subs = [i.text for i in subjects[2:]]\n",
    "    \n",
    "    datadict = {'conference name': name,\n",
    "           'submission date' : submit,\n",
    "           'conference date': date,\n",
    "           'conference location': loc,\n",
    "           'conference and submission link': link,\n",
    "           'impact score': df1[1].get('impact score'),\n",
    "           'contributing top scientists': df1[1].get('#Contributing Top Scientists'),\n",
    "           'papers published by top scientists': df1[1].get('#Papers published by Top Scientists'),\n",
    "           'Google scholar H5-index': df1[1].get('Google Scholar H5-index'),\n",
    "           'Number of editions': df1[1].get('Number of Editions'),\n",
    "           'subjects': subs}\n",
    "    return datadict"
   ]
  },
  {
   "cell_type": "code",
   "execution_count": 127,
   "id": "94437049-04ef-4ef6-a1ea-11af7286a37c",
   "metadata": {},
   "outputs": [
    {
     "data": {
      "text/plain": [
       "{'conference name': 'SDS 2021 : International Conference on Software Defined Systems',\n",
       " 'submission date': 'Thursday 15 Jul 2021',\n",
       " 'conference date': 'Dec 6, 2021 - Dec 9, 2021',\n",
       " 'conference location': 'Valencia, Spain',\n",
       " 'conference and submission link': 'http://emergingtechnet.org/SDS2021/',\n",
       " 'impact score': None,\n",
       " 'contributing top scientists': 8.0,\n",
       " 'papers published by top scientists': 10.0,\n",
       " 'Google scholar H5-index': 4.0,\n",
       " 'Number of editions': None,\n",
       " 'subjects': ['Databases & Information Systems',\n",
       "  'Software Engineering & Programming']}"
      ]
     },
     "execution_count": 127,
     "metadata": {},
     "output_type": "execute_result"
    }
   ],
   "source": [
    "scrape_one_conference('https://www.guide2research.com/conference/sds-2021-international-conference-on-software-defined-systems')"
   ]
  },
  {
   "cell_type": "markdown",
   "id": "a2e67ddf-19a9-4009-835e-7d99232e98fe",
   "metadata": {},
   "source": [
    "# Next build the Spider:\n",
    "First, collect the URLs of the pages we want to scrape"
   ]
  },
  {
   "cell_type": "code",
   "execution_count": 128,
   "id": "916c42e5-3471-4d46-aeff-e86525fec1ed",
   "metadata": {},
   "outputs": [],
   "source": [
    "page1 = 'https://www.guide2research.com/conferences/page-1'\n",
    "r = requests.get(page1, headers={'user-agent': 'Yayi Feng (yf7qq@virginia.edu) for Data Science 6001 at University of Virginia'})\n",
    "page1html = BeautifulSoup(r.text)"
   ]
  },
  {
   "cell_type": "code",
   "execution_count": 129,
   "id": "048e8e66-96b5-496f-a610-02a0972ec824",
   "metadata": {},
   "outputs": [],
   "source": [
    "confurls = page1html.find_all('h4')\n",
    "confurls = [i.a['href'] for i in confurls]"
   ]
  },
  {
   "cell_type": "code",
   "execution_count": 130,
   "id": "7e2c8399-f486-4a15-a8ca-a59f3bc59948",
   "metadata": {},
   "outputs": [
    {
     "data": {
      "text/plain": [
       "{'conference name': 'ICERI 2021 : 14th International Conference of Education, Research and Innovation',\n",
       " 'submission date': 'Thursday 15 Jul 2021',\n",
       " 'conference date': 'Nov 8, 2021 - Nov 10, 2021',\n",
       " 'conference location': 'Seville, Spain',\n",
       " 'conference and submission link': 'http://iated.org/iceri',\n",
       " 'impact score': None,\n",
       " 'contributing top scientists': 8.0,\n",
       " 'papers published by top scientists': 10.0,\n",
       " 'Google scholar H5-index': 4.0,\n",
       " 'Number of editions': None,\n",
       " 'subjects': []}"
      ]
     },
     "execution_count": 130,
     "metadata": {},
     "output_type": "execute_result"
    }
   ],
   "source": [
    "scrape_one_conference(confurls[7])"
   ]
  },
  {
   "cell_type": "code",
   "execution_count": 132,
   "id": "25c4336d-1221-4fdd-b01a-1e1d7870e0d6",
   "metadata": {},
   "outputs": [
    {
     "data": {
      "text/html": [
       "<div>\n",
       "<style scoped>\n",
       "    .dataframe tbody tr th:only-of-type {\n",
       "        vertical-align: middle;\n",
       "    }\n",
       "\n",
       "    .dataframe tbody tr th {\n",
       "        vertical-align: top;\n",
       "    }\n",
       "\n",
       "    .dataframe thead th {\n",
       "        text-align: right;\n",
       "    }\n",
       "</style>\n",
       "<table border=\"1\" class=\"dataframe\">\n",
       "  <thead>\n",
       "    <tr style=\"text-align: right;\">\n",
       "      <th></th>\n",
       "      <th>conference name</th>\n",
       "      <th>submission date</th>\n",
       "      <th>conference date</th>\n",
       "      <th>conference location</th>\n",
       "      <th>conference and submission link</th>\n",
       "      <th>impact score</th>\n",
       "      <th>contributing top scientists</th>\n",
       "      <th>papers published by top scientists</th>\n",
       "      <th>Google scholar H5-index</th>\n",
       "      <th>Number of editions</th>\n",
       "      <th>subjects</th>\n",
       "    </tr>\n",
       "  </thead>\n",
       "  <tbody>\n",
       "    <tr>\n",
       "      <th>0</th>\n",
       "      <td>SDS 2021 : International Conference on Softwar...</td>\n",
       "      <td>Thursday 15 Jul 2021</td>\n",
       "      <td>Dec 6, 2021 - Dec 9, 2021</td>\n",
       "      <td>Valencia, Spain</td>\n",
       "      <td>http://emergingtechnet.org/SDS2021/</td>\n",
       "      <td>None</td>\n",
       "      <td>8.0</td>\n",
       "      <td>10.0</td>\n",
       "      <td>4.0</td>\n",
       "      <td>None</td>\n",
       "      <td>[Databases &amp; Information Systems, Software Eng...</td>\n",
       "    </tr>\n",
       "    <tr>\n",
       "      <th>1</th>\n",
       "      <td>AIVR 2021 : IEEE International Conference on A...</td>\n",
       "      <td>Thursday 15 Jul 2021</td>\n",
       "      <td>Nov 15, 2021 - Nov 17, 2021</td>\n",
       "      <td>Taichung, Taiwan</td>\n",
       "      <td>http://www.ieee-aivr.org/</td>\n",
       "      <td>None</td>\n",
       "      <td>8.0</td>\n",
       "      <td>10.0</td>\n",
       "      <td>4.0</td>\n",
       "      <td>None</td>\n",
       "      <td>[Graphics &amp; Computer-Aided Design, Human Compu...</td>\n",
       "    </tr>\n",
       "    <tr>\n",
       "      <th>2</th>\n",
       "      <td>5GWF 2021 : IEEE 5G World Forum</td>\n",
       "      <td>Thursday 15 Jul 2021</td>\n",
       "      <td>Oct 13, 2021 - Oct 15, 2021</td>\n",
       "      <td>Montreal, Canada</td>\n",
       "      <td>https://ieee-wf-5g.org/</td>\n",
       "      <td>None</td>\n",
       "      <td>8.0</td>\n",
       "      <td>10.0</td>\n",
       "      <td>4.0</td>\n",
       "      <td>None</td>\n",
       "      <td>[Networks and Communications, Signal Processing]</td>\n",
       "    </tr>\n",
       "    <tr>\n",
       "      <th>3</th>\n",
       "      <td>APSIPA 2021 : Asia-Pacific Signal and Informat...</td>\n",
       "      <td>Thursday 15 Jul 2021</td>\n",
       "      <td>Dec 14, 2021 - Dec 17, 2021</td>\n",
       "      <td>Tokyo, Japan</td>\n",
       "      <td>https://www.apsipa2021.org/</td>\n",
       "      <td>None</td>\n",
       "      <td>8.0</td>\n",
       "      <td>10.0</td>\n",
       "      <td>4.0</td>\n",
       "      <td>None</td>\n",
       "      <td>[Databases &amp; Information Systems, Signal Proce...</td>\n",
       "    </tr>\n",
       "    <tr>\n",
       "      <th>4</th>\n",
       "      <td>ICSPCS 2021 : International Conference on Sign...</td>\n",
       "      <td>Thursday 15 Jul 2021</td>\n",
       "      <td>Dec 13, 2021 - Dec 15, 2021</td>\n",
       "      <td>Online, Online</td>\n",
       "      <td>https://www.dspcs-witsp.com/icspcs_2021</td>\n",
       "      <td>None</td>\n",
       "      <td>8.0</td>\n",
       "      <td>10.0</td>\n",
       "      <td>4.0</td>\n",
       "      <td>None</td>\n",
       "      <td>[Networks and Communications, Signal Processing]</td>\n",
       "    </tr>\n",
       "  </tbody>\n",
       "</table>\n",
       "</div>"
      ],
      "text/plain": [
       "                                     conference name       submission date  \\\n",
       "0  SDS 2021 : International Conference on Softwar...  Thursday 15 Jul 2021   \n",
       "1  AIVR 2021 : IEEE International Conference on A...  Thursday 15 Jul 2021   \n",
       "2                    5GWF 2021 : IEEE 5G World Forum  Thursday 15 Jul 2021   \n",
       "3  APSIPA 2021 : Asia-Pacific Signal and Informat...  Thursday 15 Jul 2021   \n",
       "4  ICSPCS 2021 : International Conference on Sign...  Thursday 15 Jul 2021   \n",
       "\n",
       "               conference date conference location  \\\n",
       "0    Dec 6, 2021 - Dec 9, 2021     Valencia, Spain   \n",
       "1  Nov 15, 2021 - Nov 17, 2021    Taichung, Taiwan   \n",
       "2  Oct 13, 2021 - Oct 15, 2021    Montreal, Canada   \n",
       "3  Dec 14, 2021 - Dec 17, 2021        Tokyo, Japan   \n",
       "4  Dec 13, 2021 - Dec 15, 2021      Online, Online   \n",
       "\n",
       "            conference and submission link impact score  \\\n",
       "0      http://emergingtechnet.org/SDS2021/         None   \n",
       "1                http://www.ieee-aivr.org/         None   \n",
       "2                  https://ieee-wf-5g.org/         None   \n",
       "3              https://www.apsipa2021.org/         None   \n",
       "4  https://www.dspcs-witsp.com/icspcs_2021         None   \n",
       "\n",
       "   contributing top scientists  papers published by top scientists  \\\n",
       "0                          8.0                                10.0   \n",
       "1                          8.0                                10.0   \n",
       "2                          8.0                                10.0   \n",
       "3                          8.0                                10.0   \n",
       "4                          8.0                                10.0   \n",
       "\n",
       "   Google scholar H5-index Number of editions  \\\n",
       "0                      4.0               None   \n",
       "1                      4.0               None   \n",
       "2                      4.0               None   \n",
       "3                      4.0               None   \n",
       "4                      4.0               None   \n",
       "\n",
       "                                            subjects  \n",
       "0  [Databases & Information Systems, Software Eng...  \n",
       "1  [Graphics & Computer-Aided Design, Human Compu...  \n",
       "2   [Networks and Communications, Signal Processing]  \n",
       "3  [Databases & Information Systems, Signal Proce...  \n",
       "4   [Networks and Communications, Signal Processing]  "
      ]
     },
     "execution_count": 132,
     "metadata": {},
     "output_type": "execute_result"
    }
   ],
   "source": [
    "conflist = [scrape_one_conference(i) for i in confurls]\n",
    "pd.DataFrame.from_records(conflist).head()"
   ]
  },
  {
   "cell_type": "code",
   "execution_count": 133,
   "id": "72944cb9-f671-4674-96ba-fd21903e0c7a",
   "metadata": {},
   "outputs": [],
   "source": [
    "# collect urls from every page until runs out of pages\n",
    "\n",
    "p = 1\n",
    "newurls = 1\n",
    "urls = []"
   ]
  },
  {
   "cell_type": "code",
   "execution_count": 135,
   "id": "13f7522b-86bb-4333-98ad-3caf8beca7af",
   "metadata": {},
   "outputs": [
    {
     "name": "stdout",
     "output_type": "stream",
     "text": [
      "Collecting URLs from page1\n",
      "Collecting URLs from page2\n",
      "Collecting URLs from page3\n",
      "Collecting URLs from page4\n",
      "Collecting URLs from page5\n",
      "Collecting URLs from page6\n"
     ]
    }
   ],
   "source": [
    "while newurls > 0:\n",
    "    print('Collecting URLs from page' + str(p))\n",
    "    url = \"https://www.guide2research.com/conferences/page-\" + str(p)\n",
    "    headers = {\"user-agent\": \"yf7qq\"}\n",
    "    r = requests.get(url, headers=headers)\n",
    "    \n",
    "    pagehtml = BeautifulSoup(r.text, 'html.parser')\n",
    "    \n",
    "    confurls = pagehtml.find_all(\"h4\")\n",
    "    confurls=[i.a['href'] for i in confurls]\n",
    "    \n",
    "    urls = urls + confurls\n",
    "    newurls = len(confurls)\n",
    "    \n",
    "    p += 1"
   ]
  },
  {
   "cell_type": "code",
   "execution_count": 138,
   "id": "b6ad8354-046d-4e31-83c3-1f68689ea929",
   "metadata": {},
   "outputs": [
    {
     "name": "stdout",
     "output_type": "stream",
     "text": [
      "Now scraping fromhttps://www.guide2research.com/conference/sds-2021-international-conference-on-software-defined-systems\n",
      "Now scraping fromhttps://www.guide2research.com/conference/aivr-2021-ieee-international-conference-on-artificial-intelligence-and-virtual-reality\n",
      "Now scraping fromhttps://www.guide2research.com/conference/5gwf-2021-ieee-5g-world-forum\n",
      "Now scraping fromhttps://www.guide2research.com/conference/apsipa-2021-asia-pacific-signal-and-information-processing-association-annual-summit-and-conference\n",
      "Now scraping fromhttps://www.guide2research.com/conference/icspcs-2021-international-conference-on-signal-processing-and-communication-systems\n",
      "Now scraping fromhttps://www.guide2research.com/conference/asicon-2021-ieee-international-conference-on-asic\n",
      "Now scraping fromhttps://www.guide2research.com/conference/fmec-2021-international-conference-on-fog-and-mobile-edge-computing\n",
      "Now scraping fromhttps://www.guide2research.com/conference/iceri-2021-14th-international-conference-of-education-research-and-innovation\n",
      "Now scraping fromhttps://www.guide2research.com/conference/iccs-2021-7th-international-conference-on-cyber-security-and-privacy-in-communication-networks\n",
      "Now scraping fromhttps://www.guide2research.com/conference/hpec-2021-ieee-high-performance-extreme-computing-conference\n",
      "Now scraping fromhttps://www.guide2research.com/conference/iiswc-2021-ieee-international-symposium-on-workload-characterization\n",
      "Now scraping fromhttps://www.guide2research.com/conference/comcas-2021-ieee-international-conference-on-microwaves-antennas-communications-and-electronic-systems\n",
      "Now scraping fromhttps://www.guide2research.com/conference/mascots-2021-ieee-international-symposium-on-modeling-analysis-and-simulation-of-computer-and-telecommunication-systems\n",
      "Now scraping fromhttps://www.guide2research.com/conference/vrst-2021-acm-symposium-on-virtual-reality-software-and-technology\n",
      "Now scraping fromhttps://www.guide2research.com/conference/fsttcs-2021-foundations-of-software-technology-and-theoretical-computer-science\n",
      "Now scraping fromhttps://www.guide2research.com/conference/icosec-2021-2nd-international-conference-on-smart-electronics-and-communication\n",
      "Now scraping fromhttps://www.guide2research.com/conference/isbra-2021-international-symposium-on-bioinformatics-research-and-applications\n",
      "Now scraping fromhttps://www.guide2research.com/conference/csps-2021-international-conference-in-communications-signal-processing-and-systems\n",
      "Now scraping fromhttps://www.guide2research.com/conference/aisi-2021-international-conference-on-advanced-intelligent-systems-and-informatics\n",
      "Now scraping fromhttps://www.guide2research.com/conference/wifs-2021-ieee-international-workshop-on-information-forensics-and-security\n",
      "Now scraping fromhttps://www.guide2research.com/conference/asp-dac-2022-asia-and-south-pacific-design-automation-conference\n",
      "Now scraping fromhttps://www.guide2research.com/conference/blockchain-2021-ieee-international-conference-on-blockchain\n",
      "Now scraping fromhttps://www.guide2research.com/conference/icids-2021-international-conference-on-interactive-digital-storytelling\n",
      "Now scraping fromhttps://www.guide2research.com/conference/buildsys-2021-acm-international-conference-on-systems-for-energy-efficient-built-environments\n",
      "Now scraping fromhttps://www.guide2research.com/conference/koli-calling-2021-koli-calling-international-conference-on-computing-education-research\n",
      "Now scraping fromhttps://www.guide2research.com/conference/cce-2021-international-conference-on-electrical-engineering-computing-science-and-automatic-control\n",
      "Now scraping fromhttps://www.guide2research.com/conference/ndss-2022-network-and-distributed-system-security-symposium-ndss\n",
      "Now scraping fromhttps://www.guide2research.com/conference/ashes-2021-acm-workshop-on-attacks-and-solutions-in-hardware-security\n",
      "Now scraping fromhttps://www.guide2research.com/conference/human-2021-4th-workshop-on-human-factors-in-hypertext\n",
      "Now scraping fromhttps://www.guide2research.com/conference/hpca-2022-ieee-international-symposium-on-high-performance-computer-architecture\n",
      "Now scraping fromhttps://www.guide2research.com/conference/iedm-2021-international-electron-devices-meeting\n",
      "Now scraping fromhttps://www.guide2research.com/conference/msn-2021-international-conference-on-mobility-sensing-and-networking\n",
      "Now scraping fromhttps://www.guide2research.com/conference/rws-2022-ieee-radio-and-wireless-symposium\n",
      "Now scraping fromhttps://www.guide2research.com/conference/wisnet-2022-ieee-topical-conference-on-wireless-sensors-and-sensor-networks\n",
      "Now scraping fromhttps://www.guide2research.com/conference/poem-2021-ifip-working-conference-on-the-practice-of-enterprise-modeling\n",
      "Now scraping fromhttps://www.guide2research.com/conference/icses-2021-international-conference-on-innovative-computing-intelligent-communication-and-smart-electrical-systems\n",
      "Now scraping fromhttps://www.guide2research.com/conference/aisec-2021-acm-workshop-on-artificial-intelligence-and-security\n",
      "Now scraping fromhttps://www.guide2research.com/conference/cicm-2021-international-conference-on-intelligent-computer-mathematics\n",
      "Now scraping fromhttps://www.guide2research.com/conference/icfpt-2021-international-conference-on-field-programmable-technology\n",
      "Now scraping fromhttps://www.guide2research.com/conference/apsec-2021-asia-pacific-software-engineering-conference\n",
      "Now scraping fromhttps://www.guide2research.com/conference/asianhost-2021-asian-hardware-oriented-security-and-trust-symposium\n",
      "Now scraping fromhttps://www.guide2research.com/conference/ictai-2021-international-conference-on-tools-with-artificial-intelligence\n",
      "Now scraping fromhttps://www.guide2research.com/conference/vnc-2021-ieee-vehicular-networking-conference\n",
      "Now scraping fromhttps://www.guide2research.com/conference/sefm-2021-software-engineering-and-formal-methods\n",
      "Now scraping fromhttps://www.guide2research.com/conference/wpes-2021-acm-workshop-on-privacy-in-the-electronic-society\n",
      "Now scraping fromhttps://www.guide2research.com/conference/aiia-2021-international-conference-of-the-italian-association-for-artificial-intelligence\n",
      "Now scraping fromhttps://www.guide2research.com/conference/ictc-2021-international-conference-on-information-and-communication-technology-convergence\n",
      "Now scraping fromhttps://www.guide2research.com/conference/3dv-2021-international-conference-on-3d-vision\n",
      "Now scraping fromhttps://www.guide2research.com/conference/ivpai-2021-the-4th-international-conference-on-image-video-processing-and-artificial-intelligence\n",
      "Now scraping fromhttps://www.guide2research.com/conference/dicta-2021-international-conference-on-digital-image-computing-techniques-and-applications\n",
      "Now scraping fromhttps://www.guide2research.com/conference/helmeto-2021-3rd-international-workshop-on-higher-education-learning-methodologies-and-technologies-online\n",
      "Now scraping fromhttps://www.guide2research.com/conference/ccnc-2022-ieee-consumer-communications-and-networking-conference\n",
      "Now scraping fromhttps://www.guide2research.com/conference/icissc-2021-international-conference-on-intelligent-systems-sustainable-computing\n",
      "Now scraping fromhttps://www.guide2research.com/conference/icadcml-2022-3rd-international-conference-on-advances-in-distributed-computing-and-machine-learning\n",
      "Now scraping fromhttps://www.guide2research.com/conference/icccn-2021-international-conference-on-computing-and-communication-networks\n",
      "Now scraping fromhttps://www.guide2research.com/conference/allerton-2021-allerton-conference-on-communication-control-and-computing\n",
      "Now scraping fromhttps://www.guide2research.com/conference/fg-2021-ieee-international-conference-on-automatic-face-gesture-recognition\n",
      "Now scraping fromhttps://www.guide2research.com/conference/ai4i-2021-artificial-intelligence-for-industries\n",
      "Now scraping fromhttps://www.guide2research.com/conference/prdc-2021-ieee-pacific-rim-international-symposium-on-dependable-computing\n",
      "Now scraping fromhttps://www.guide2research.com/conference/psb-2021-pacific-symposium-on-biocomputing-2\n",
      "Now scraping fromhttps://www.guide2research.com/conference/gamesec-2021-conference-on-the-decision-and-game-theory-for-security\n"
     ]
    },
    {
     "ename": "KeyboardInterrupt",
     "evalue": "",
     "output_type": "error",
     "traceback": [
      "\u001b[0;31m---------------------------------------------------------------------------\u001b[0m",
      "\u001b[0;31mKeyboardInterrupt\u001b[0m                         Traceback (most recent call last)",
      "\u001b[0;32m<ipython-input-138-1cbf3143907b>\u001b[0m in \u001b[0;36m<module>\u001b[0;34m\u001b[0m\n\u001b[0;32m----> 1\u001b[0;31m \u001b[0;34m[\u001b[0m\u001b[0mscrape_one_conference\u001b[0m\u001b[0;34m(\u001b[0m\u001b[0mi\u001b[0m\u001b[0;34m)\u001b[0m \u001b[0;32mfor\u001b[0m \u001b[0mi\u001b[0m \u001b[0;32min\u001b[0m \u001b[0murls\u001b[0m\u001b[0;34m]\u001b[0m\u001b[0;34m\u001b[0m\u001b[0;34m\u001b[0m\u001b[0m\n\u001b[0m",
      "\u001b[0;32m<ipython-input-138-1cbf3143907b>\u001b[0m in \u001b[0;36m<listcomp>\u001b[0;34m(.0)\u001b[0m\n\u001b[0;32m----> 1\u001b[0;31m \u001b[0;34m[\u001b[0m\u001b[0mscrape_one_conference\u001b[0m\u001b[0;34m(\u001b[0m\u001b[0mi\u001b[0m\u001b[0;34m)\u001b[0m \u001b[0;32mfor\u001b[0m \u001b[0mi\u001b[0m \u001b[0;32min\u001b[0m \u001b[0murls\u001b[0m\u001b[0;34m]\u001b[0m\u001b[0;34m\u001b[0m\u001b[0;34m\u001b[0m\u001b[0m\n\u001b[0m",
      "\u001b[0;32m<ipython-input-137-439ed16d4947>\u001b[0m in \u001b[0;36mscrape_one_conference\u001b[0;34m(url)\u001b[0m\n\u001b[1;32m      3\u001b[0m     \u001b[0mprint\u001b[0m\u001b[0;34m(\u001b[0m\u001b[0;34m'Now scraping from'\u001b[0m \u001b[0;34m+\u001b[0m \u001b[0murl\u001b[0m\u001b[0;34m)\u001b[0m\u001b[0;34m\u001b[0m\u001b[0;34m\u001b[0m\u001b[0m\n\u001b[1;32m      4\u001b[0m \u001b[0;34m\u001b[0m\u001b[0m\n\u001b[0;32m----> 5\u001b[0;31m     \u001b[0mr\u001b[0m \u001b[0;34m=\u001b[0m \u001b[0mrequests\u001b[0m\u001b[0;34m.\u001b[0m\u001b[0mget\u001b[0m\u001b[0;34m(\u001b[0m\u001b[0murl\u001b[0m\u001b[0;34m,\u001b[0m \u001b[0mheaders\u001b[0m\u001b[0;34m=\u001b[0m\u001b[0;34m{\u001b[0m\u001b[0;34m'user-agent'\u001b[0m\u001b[0;34m:\u001b[0m \u001b[0;34m'Yayi Feng (yf7qq@virginia.edu) for Data Science 6001 at University of Virginia'\u001b[0m\u001b[0;34m}\u001b[0m\u001b[0;34m)\u001b[0m\u001b[0;34m\u001b[0m\u001b[0;34m\u001b[0m\u001b[0m\n\u001b[0m\u001b[1;32m      6\u001b[0m     \u001b[0maspconf\u001b[0m \u001b[0;34m=\u001b[0m \u001b[0mBeautifulSoup\u001b[0m\u001b[0;34m(\u001b[0m\u001b[0mr\u001b[0m\u001b[0;34m.\u001b[0m\u001b[0mtext\u001b[0m\u001b[0;34m)\u001b[0m\u001b[0;34m\u001b[0m\u001b[0;34m\u001b[0m\u001b[0m\n\u001b[1;32m      7\u001b[0m \u001b[0;34m\u001b[0m\u001b[0m\n",
      "\u001b[0;32m~/opt/anaconda3/lib/python3.8/site-packages/requests/api.py\u001b[0m in \u001b[0;36mget\u001b[0;34m(url, params, **kwargs)\u001b[0m\n\u001b[1;32m     74\u001b[0m \u001b[0;34m\u001b[0m\u001b[0m\n\u001b[1;32m     75\u001b[0m     \u001b[0mkwargs\u001b[0m\u001b[0;34m.\u001b[0m\u001b[0msetdefault\u001b[0m\u001b[0;34m(\u001b[0m\u001b[0;34m'allow_redirects'\u001b[0m\u001b[0;34m,\u001b[0m \u001b[0;32mTrue\u001b[0m\u001b[0;34m)\u001b[0m\u001b[0;34m\u001b[0m\u001b[0;34m\u001b[0m\u001b[0m\n\u001b[0;32m---> 76\u001b[0;31m     \u001b[0;32mreturn\u001b[0m \u001b[0mrequest\u001b[0m\u001b[0;34m(\u001b[0m\u001b[0;34m'get'\u001b[0m\u001b[0;34m,\u001b[0m \u001b[0murl\u001b[0m\u001b[0;34m,\u001b[0m \u001b[0mparams\u001b[0m\u001b[0;34m=\u001b[0m\u001b[0mparams\u001b[0m\u001b[0;34m,\u001b[0m \u001b[0;34m**\u001b[0m\u001b[0mkwargs\u001b[0m\u001b[0;34m)\u001b[0m\u001b[0;34m\u001b[0m\u001b[0;34m\u001b[0m\u001b[0m\n\u001b[0m\u001b[1;32m     77\u001b[0m \u001b[0;34m\u001b[0m\u001b[0m\n\u001b[1;32m     78\u001b[0m \u001b[0;34m\u001b[0m\u001b[0m\n",
      "\u001b[0;32m~/opt/anaconda3/lib/python3.8/site-packages/requests/api.py\u001b[0m in \u001b[0;36mrequest\u001b[0;34m(method, url, **kwargs)\u001b[0m\n\u001b[1;32m     59\u001b[0m     \u001b[0;31m# cases, and look like a memory leak in others.\u001b[0m\u001b[0;34m\u001b[0m\u001b[0;34m\u001b[0m\u001b[0;34m\u001b[0m\u001b[0m\n\u001b[1;32m     60\u001b[0m     \u001b[0;32mwith\u001b[0m \u001b[0msessions\u001b[0m\u001b[0;34m.\u001b[0m\u001b[0mSession\u001b[0m\u001b[0;34m(\u001b[0m\u001b[0;34m)\u001b[0m \u001b[0;32mas\u001b[0m \u001b[0msession\u001b[0m\u001b[0;34m:\u001b[0m\u001b[0;34m\u001b[0m\u001b[0;34m\u001b[0m\u001b[0m\n\u001b[0;32m---> 61\u001b[0;31m         \u001b[0;32mreturn\u001b[0m \u001b[0msession\u001b[0m\u001b[0;34m.\u001b[0m\u001b[0mrequest\u001b[0m\u001b[0;34m(\u001b[0m\u001b[0mmethod\u001b[0m\u001b[0;34m=\u001b[0m\u001b[0mmethod\u001b[0m\u001b[0;34m,\u001b[0m \u001b[0murl\u001b[0m\u001b[0;34m=\u001b[0m\u001b[0murl\u001b[0m\u001b[0;34m,\u001b[0m \u001b[0;34m**\u001b[0m\u001b[0mkwargs\u001b[0m\u001b[0;34m)\u001b[0m\u001b[0;34m\u001b[0m\u001b[0;34m\u001b[0m\u001b[0m\n\u001b[0m\u001b[1;32m     62\u001b[0m \u001b[0;34m\u001b[0m\u001b[0m\n\u001b[1;32m     63\u001b[0m \u001b[0;34m\u001b[0m\u001b[0m\n",
      "\u001b[0;32m~/opt/anaconda3/lib/python3.8/site-packages/requests/sessions.py\u001b[0m in \u001b[0;36mrequest\u001b[0;34m(self, method, url, params, data, headers, cookies, files, auth, timeout, allow_redirects, proxies, hooks, stream, verify, cert, json)\u001b[0m\n\u001b[1;32m    540\u001b[0m         }\n\u001b[1;32m    541\u001b[0m         \u001b[0msend_kwargs\u001b[0m\u001b[0;34m.\u001b[0m\u001b[0mupdate\u001b[0m\u001b[0;34m(\u001b[0m\u001b[0msettings\u001b[0m\u001b[0;34m)\u001b[0m\u001b[0;34m\u001b[0m\u001b[0;34m\u001b[0m\u001b[0m\n\u001b[0;32m--> 542\u001b[0;31m         \u001b[0mresp\u001b[0m \u001b[0;34m=\u001b[0m \u001b[0mself\u001b[0m\u001b[0;34m.\u001b[0m\u001b[0msend\u001b[0m\u001b[0;34m(\u001b[0m\u001b[0mprep\u001b[0m\u001b[0;34m,\u001b[0m \u001b[0;34m**\u001b[0m\u001b[0msend_kwargs\u001b[0m\u001b[0;34m)\u001b[0m\u001b[0;34m\u001b[0m\u001b[0;34m\u001b[0m\u001b[0m\n\u001b[0m\u001b[1;32m    543\u001b[0m \u001b[0;34m\u001b[0m\u001b[0m\n\u001b[1;32m    544\u001b[0m         \u001b[0;32mreturn\u001b[0m \u001b[0mresp\u001b[0m\u001b[0;34m\u001b[0m\u001b[0;34m\u001b[0m\u001b[0m\n",
      "\u001b[0;32m~/opt/anaconda3/lib/python3.8/site-packages/requests/sessions.py\u001b[0m in \u001b[0;36msend\u001b[0;34m(self, request, **kwargs)\u001b[0m\n\u001b[1;32m    695\u001b[0m \u001b[0;34m\u001b[0m\u001b[0m\n\u001b[1;32m    696\u001b[0m         \u001b[0;32mif\u001b[0m \u001b[0;32mnot\u001b[0m \u001b[0mstream\u001b[0m\u001b[0;34m:\u001b[0m\u001b[0;34m\u001b[0m\u001b[0;34m\u001b[0m\u001b[0m\n\u001b[0;32m--> 697\u001b[0;31m             \u001b[0mr\u001b[0m\u001b[0;34m.\u001b[0m\u001b[0mcontent\u001b[0m\u001b[0;34m\u001b[0m\u001b[0;34m\u001b[0m\u001b[0m\n\u001b[0m\u001b[1;32m    698\u001b[0m \u001b[0;34m\u001b[0m\u001b[0m\n\u001b[1;32m    699\u001b[0m         \u001b[0;32mreturn\u001b[0m \u001b[0mr\u001b[0m\u001b[0;34m\u001b[0m\u001b[0;34m\u001b[0m\u001b[0m\n",
      "\u001b[0;32m~/opt/anaconda3/lib/python3.8/site-packages/requests/models.py\u001b[0m in \u001b[0;36mcontent\u001b[0;34m(self)\u001b[0m\n\u001b[1;32m    829\u001b[0m                 \u001b[0mself\u001b[0m\u001b[0;34m.\u001b[0m\u001b[0m_content\u001b[0m \u001b[0;34m=\u001b[0m \u001b[0;32mNone\u001b[0m\u001b[0;34m\u001b[0m\u001b[0;34m\u001b[0m\u001b[0m\n\u001b[1;32m    830\u001b[0m             \u001b[0;32melse\u001b[0m\u001b[0;34m:\u001b[0m\u001b[0;34m\u001b[0m\u001b[0;34m\u001b[0m\u001b[0m\n\u001b[0;32m--> 831\u001b[0;31m                 \u001b[0mself\u001b[0m\u001b[0;34m.\u001b[0m\u001b[0m_content\u001b[0m \u001b[0;34m=\u001b[0m \u001b[0;34mb''\u001b[0m\u001b[0;34m.\u001b[0m\u001b[0mjoin\u001b[0m\u001b[0;34m(\u001b[0m\u001b[0mself\u001b[0m\u001b[0;34m.\u001b[0m\u001b[0miter_content\u001b[0m\u001b[0;34m(\u001b[0m\u001b[0mCONTENT_CHUNK_SIZE\u001b[0m\u001b[0;34m)\u001b[0m\u001b[0;34m)\u001b[0m \u001b[0;32mor\u001b[0m \u001b[0;34mb''\u001b[0m\u001b[0;34m\u001b[0m\u001b[0;34m\u001b[0m\u001b[0m\n\u001b[0m\u001b[1;32m    832\u001b[0m \u001b[0;34m\u001b[0m\u001b[0m\n\u001b[1;32m    833\u001b[0m         \u001b[0mself\u001b[0m\u001b[0;34m.\u001b[0m\u001b[0m_content_consumed\u001b[0m \u001b[0;34m=\u001b[0m \u001b[0;32mTrue\u001b[0m\u001b[0;34m\u001b[0m\u001b[0;34m\u001b[0m\u001b[0m\n",
      "\u001b[0;32m~/opt/anaconda3/lib/python3.8/site-packages/requests/models.py\u001b[0m in \u001b[0;36mgenerate\u001b[0;34m()\u001b[0m\n\u001b[1;32m    751\u001b[0m             \u001b[0;32mif\u001b[0m \u001b[0mhasattr\u001b[0m\u001b[0;34m(\u001b[0m\u001b[0mself\u001b[0m\u001b[0;34m.\u001b[0m\u001b[0mraw\u001b[0m\u001b[0;34m,\u001b[0m \u001b[0;34m'stream'\u001b[0m\u001b[0;34m)\u001b[0m\u001b[0;34m:\u001b[0m\u001b[0;34m\u001b[0m\u001b[0;34m\u001b[0m\u001b[0m\n\u001b[1;32m    752\u001b[0m                 \u001b[0;32mtry\u001b[0m\u001b[0;34m:\u001b[0m\u001b[0;34m\u001b[0m\u001b[0;34m\u001b[0m\u001b[0m\n\u001b[0;32m--> 753\u001b[0;31m                     \u001b[0;32mfor\u001b[0m \u001b[0mchunk\u001b[0m \u001b[0;32min\u001b[0m \u001b[0mself\u001b[0m\u001b[0;34m.\u001b[0m\u001b[0mraw\u001b[0m\u001b[0;34m.\u001b[0m\u001b[0mstream\u001b[0m\u001b[0;34m(\u001b[0m\u001b[0mchunk_size\u001b[0m\u001b[0;34m,\u001b[0m \u001b[0mdecode_content\u001b[0m\u001b[0;34m=\u001b[0m\u001b[0;32mTrue\u001b[0m\u001b[0;34m)\u001b[0m\u001b[0;34m:\u001b[0m\u001b[0;34m\u001b[0m\u001b[0;34m\u001b[0m\u001b[0m\n\u001b[0m\u001b[1;32m    754\u001b[0m                         \u001b[0;32myield\u001b[0m \u001b[0mchunk\u001b[0m\u001b[0;34m\u001b[0m\u001b[0;34m\u001b[0m\u001b[0m\n\u001b[1;32m    755\u001b[0m                 \u001b[0;32mexcept\u001b[0m \u001b[0mProtocolError\u001b[0m \u001b[0;32mas\u001b[0m \u001b[0me\u001b[0m\u001b[0;34m:\u001b[0m\u001b[0;34m\u001b[0m\u001b[0;34m\u001b[0m\u001b[0m\n",
      "\u001b[0;32m~/opt/anaconda3/lib/python3.8/site-packages/urllib3/response.py\u001b[0m in \u001b[0;36mstream\u001b[0;34m(self, amt, decode_content)\u001b[0m\n\u001b[1;32m    570\u001b[0m         \"\"\"\n\u001b[1;32m    571\u001b[0m         \u001b[0;32mif\u001b[0m \u001b[0mself\u001b[0m\u001b[0;34m.\u001b[0m\u001b[0mchunked\u001b[0m \u001b[0;32mand\u001b[0m \u001b[0mself\u001b[0m\u001b[0;34m.\u001b[0m\u001b[0msupports_chunked_reads\u001b[0m\u001b[0;34m(\u001b[0m\u001b[0;34m)\u001b[0m\u001b[0;34m:\u001b[0m\u001b[0;34m\u001b[0m\u001b[0;34m\u001b[0m\u001b[0m\n\u001b[0;32m--> 572\u001b[0;31m             \u001b[0;32mfor\u001b[0m \u001b[0mline\u001b[0m \u001b[0;32min\u001b[0m \u001b[0mself\u001b[0m\u001b[0;34m.\u001b[0m\u001b[0mread_chunked\u001b[0m\u001b[0;34m(\u001b[0m\u001b[0mamt\u001b[0m\u001b[0;34m,\u001b[0m \u001b[0mdecode_content\u001b[0m\u001b[0;34m=\u001b[0m\u001b[0mdecode_content\u001b[0m\u001b[0;34m)\u001b[0m\u001b[0;34m:\u001b[0m\u001b[0;34m\u001b[0m\u001b[0;34m\u001b[0m\u001b[0m\n\u001b[0m\u001b[1;32m    573\u001b[0m                 \u001b[0;32myield\u001b[0m \u001b[0mline\u001b[0m\u001b[0;34m\u001b[0m\u001b[0;34m\u001b[0m\u001b[0m\n\u001b[1;32m    574\u001b[0m         \u001b[0;32melse\u001b[0m\u001b[0;34m:\u001b[0m\u001b[0;34m\u001b[0m\u001b[0;34m\u001b[0m\u001b[0m\n",
      "\u001b[0;32m~/opt/anaconda3/lib/python3.8/site-packages/urllib3/response.py\u001b[0m in \u001b[0;36mread_chunked\u001b[0;34m(self, amt, decode_content)\u001b[0m\n\u001b[1;32m    762\u001b[0m \u001b[0;34m\u001b[0m\u001b[0m\n\u001b[1;32m    763\u001b[0m             \u001b[0;32mwhile\u001b[0m \u001b[0;32mTrue\u001b[0m\u001b[0;34m:\u001b[0m\u001b[0;34m\u001b[0m\u001b[0;34m\u001b[0m\u001b[0m\n\u001b[0;32m--> 764\u001b[0;31m                 \u001b[0mself\u001b[0m\u001b[0;34m.\u001b[0m\u001b[0m_update_chunk_length\u001b[0m\u001b[0;34m(\u001b[0m\u001b[0;34m)\u001b[0m\u001b[0;34m\u001b[0m\u001b[0;34m\u001b[0m\u001b[0m\n\u001b[0m\u001b[1;32m    765\u001b[0m                 \u001b[0;32mif\u001b[0m \u001b[0mself\u001b[0m\u001b[0;34m.\u001b[0m\u001b[0mchunk_left\u001b[0m \u001b[0;34m==\u001b[0m \u001b[0;36m0\u001b[0m\u001b[0;34m:\u001b[0m\u001b[0;34m\u001b[0m\u001b[0;34m\u001b[0m\u001b[0m\n\u001b[1;32m    766\u001b[0m                     \u001b[0;32mbreak\u001b[0m\u001b[0;34m\u001b[0m\u001b[0;34m\u001b[0m\u001b[0m\n",
      "\u001b[0;32m~/opt/anaconda3/lib/python3.8/site-packages/urllib3/response.py\u001b[0m in \u001b[0;36m_update_chunk_length\u001b[0;34m(self)\u001b[0m\n\u001b[1;32m    692\u001b[0m         \u001b[0;32mif\u001b[0m \u001b[0mself\u001b[0m\u001b[0;34m.\u001b[0m\u001b[0mchunk_left\u001b[0m \u001b[0;32mis\u001b[0m \u001b[0;32mnot\u001b[0m \u001b[0;32mNone\u001b[0m\u001b[0;34m:\u001b[0m\u001b[0;34m\u001b[0m\u001b[0;34m\u001b[0m\u001b[0m\n\u001b[1;32m    693\u001b[0m             \u001b[0;32mreturn\u001b[0m\u001b[0;34m\u001b[0m\u001b[0;34m\u001b[0m\u001b[0m\n\u001b[0;32m--> 694\u001b[0;31m         \u001b[0mline\u001b[0m \u001b[0;34m=\u001b[0m \u001b[0mself\u001b[0m\u001b[0;34m.\u001b[0m\u001b[0m_fp\u001b[0m\u001b[0;34m.\u001b[0m\u001b[0mfp\u001b[0m\u001b[0;34m.\u001b[0m\u001b[0mreadline\u001b[0m\u001b[0;34m(\u001b[0m\u001b[0;34m)\u001b[0m\u001b[0;34m\u001b[0m\u001b[0;34m\u001b[0m\u001b[0m\n\u001b[0m\u001b[1;32m    695\u001b[0m         \u001b[0mline\u001b[0m \u001b[0;34m=\u001b[0m \u001b[0mline\u001b[0m\u001b[0;34m.\u001b[0m\u001b[0msplit\u001b[0m\u001b[0;34m(\u001b[0m\u001b[0;34mb\";\"\u001b[0m\u001b[0;34m,\u001b[0m \u001b[0;36m1\u001b[0m\u001b[0;34m)\u001b[0m\u001b[0;34m[\u001b[0m\u001b[0;36m0\u001b[0m\u001b[0;34m]\u001b[0m\u001b[0;34m\u001b[0m\u001b[0;34m\u001b[0m\u001b[0m\n\u001b[1;32m    696\u001b[0m         \u001b[0;32mtry\u001b[0m\u001b[0;34m:\u001b[0m\u001b[0;34m\u001b[0m\u001b[0;34m\u001b[0m\u001b[0m\n",
      "\u001b[0;32m~/opt/anaconda3/lib/python3.8/socket.py\u001b[0m in \u001b[0;36mreadinto\u001b[0;34m(self, b)\u001b[0m\n\u001b[1;32m    667\u001b[0m         \u001b[0;32mwhile\u001b[0m \u001b[0;32mTrue\u001b[0m\u001b[0;34m:\u001b[0m\u001b[0;34m\u001b[0m\u001b[0;34m\u001b[0m\u001b[0m\n\u001b[1;32m    668\u001b[0m             \u001b[0;32mtry\u001b[0m\u001b[0;34m:\u001b[0m\u001b[0;34m\u001b[0m\u001b[0;34m\u001b[0m\u001b[0m\n\u001b[0;32m--> 669\u001b[0;31m                 \u001b[0;32mreturn\u001b[0m \u001b[0mself\u001b[0m\u001b[0;34m.\u001b[0m\u001b[0m_sock\u001b[0m\u001b[0;34m.\u001b[0m\u001b[0mrecv_into\u001b[0m\u001b[0;34m(\u001b[0m\u001b[0mb\u001b[0m\u001b[0;34m)\u001b[0m\u001b[0;34m\u001b[0m\u001b[0;34m\u001b[0m\u001b[0m\n\u001b[0m\u001b[1;32m    670\u001b[0m             \u001b[0;32mexcept\u001b[0m \u001b[0mtimeout\u001b[0m\u001b[0;34m:\u001b[0m\u001b[0;34m\u001b[0m\u001b[0;34m\u001b[0m\u001b[0m\n\u001b[1;32m    671\u001b[0m                 \u001b[0mself\u001b[0m\u001b[0;34m.\u001b[0m\u001b[0m_timeout_occurred\u001b[0m \u001b[0;34m=\u001b[0m \u001b[0;32mTrue\u001b[0m\u001b[0;34m\u001b[0m\u001b[0;34m\u001b[0m\u001b[0m\n",
      "\u001b[0;32m~/opt/anaconda3/lib/python3.8/ssl.py\u001b[0m in \u001b[0;36mrecv_into\u001b[0;34m(self, buffer, nbytes, flags)\u001b[0m\n\u001b[1;32m   1239\u001b[0m                   \u001b[0;34m\"non-zero flags not allowed in calls to recv_into() on %s\"\u001b[0m \u001b[0;34m%\u001b[0m\u001b[0;34m\u001b[0m\u001b[0;34m\u001b[0m\u001b[0m\n\u001b[1;32m   1240\u001b[0m                   self.__class__)\n\u001b[0;32m-> 1241\u001b[0;31m             \u001b[0;32mreturn\u001b[0m \u001b[0mself\u001b[0m\u001b[0;34m.\u001b[0m\u001b[0mread\u001b[0m\u001b[0;34m(\u001b[0m\u001b[0mnbytes\u001b[0m\u001b[0;34m,\u001b[0m \u001b[0mbuffer\u001b[0m\u001b[0;34m)\u001b[0m\u001b[0;34m\u001b[0m\u001b[0;34m\u001b[0m\u001b[0m\n\u001b[0m\u001b[1;32m   1242\u001b[0m         \u001b[0;32melse\u001b[0m\u001b[0;34m:\u001b[0m\u001b[0;34m\u001b[0m\u001b[0;34m\u001b[0m\u001b[0m\n\u001b[1;32m   1243\u001b[0m             \u001b[0;32mreturn\u001b[0m \u001b[0msuper\u001b[0m\u001b[0;34m(\u001b[0m\u001b[0;34m)\u001b[0m\u001b[0;34m.\u001b[0m\u001b[0mrecv_into\u001b[0m\u001b[0;34m(\u001b[0m\u001b[0mbuffer\u001b[0m\u001b[0;34m,\u001b[0m \u001b[0mnbytes\u001b[0m\u001b[0;34m,\u001b[0m \u001b[0mflags\u001b[0m\u001b[0;34m)\u001b[0m\u001b[0;34m\u001b[0m\u001b[0;34m\u001b[0m\u001b[0m\n",
      "\u001b[0;32m~/opt/anaconda3/lib/python3.8/ssl.py\u001b[0m in \u001b[0;36mread\u001b[0;34m(self, len, buffer)\u001b[0m\n\u001b[1;32m   1097\u001b[0m         \u001b[0;32mtry\u001b[0m\u001b[0;34m:\u001b[0m\u001b[0;34m\u001b[0m\u001b[0;34m\u001b[0m\u001b[0m\n\u001b[1;32m   1098\u001b[0m             \u001b[0;32mif\u001b[0m \u001b[0mbuffer\u001b[0m \u001b[0;32mis\u001b[0m \u001b[0;32mnot\u001b[0m \u001b[0;32mNone\u001b[0m\u001b[0;34m:\u001b[0m\u001b[0;34m\u001b[0m\u001b[0;34m\u001b[0m\u001b[0m\n\u001b[0;32m-> 1099\u001b[0;31m                 \u001b[0;32mreturn\u001b[0m \u001b[0mself\u001b[0m\u001b[0;34m.\u001b[0m\u001b[0m_sslobj\u001b[0m\u001b[0;34m.\u001b[0m\u001b[0mread\u001b[0m\u001b[0;34m(\u001b[0m\u001b[0mlen\u001b[0m\u001b[0;34m,\u001b[0m \u001b[0mbuffer\u001b[0m\u001b[0;34m)\u001b[0m\u001b[0;34m\u001b[0m\u001b[0;34m\u001b[0m\u001b[0m\n\u001b[0m\u001b[1;32m   1100\u001b[0m             \u001b[0;32melse\u001b[0m\u001b[0;34m:\u001b[0m\u001b[0;34m\u001b[0m\u001b[0;34m\u001b[0m\u001b[0m\n\u001b[1;32m   1101\u001b[0m                 \u001b[0;32mreturn\u001b[0m \u001b[0mself\u001b[0m\u001b[0;34m.\u001b[0m\u001b[0m_sslobj\u001b[0m\u001b[0;34m.\u001b[0m\u001b[0mread\u001b[0m\u001b[0;34m(\u001b[0m\u001b[0mlen\u001b[0m\u001b[0;34m)\u001b[0m\u001b[0;34m\u001b[0m\u001b[0;34m\u001b[0m\u001b[0m\n",
      "\u001b[0;31mKeyboardInterrupt\u001b[0m: "
     ]
    }
   ],
   "source": [
    "[scrape_one_conference(i) for i in urls]"
   ]
  },
  {
   "cell_type": "code",
   "execution_count": null,
   "id": "4e522828-ff31-435e-a2be-5a40fd57b4ff",
   "metadata": {},
   "outputs": [],
   "source": []
  }
 ],
 "metadata": {
  "kernelspec": {
   "display_name": "Python 3",
   "language": "python",
   "name": "python3"
  },
  "language_info": {
   "codemirror_mode": {
    "name": "ipython",
    "version": 3
   },
   "file_extension": ".py",
   "mimetype": "text/x-python",
   "name": "python",
   "nbconvert_exporter": "python",
   "pygments_lexer": "ipython3",
   "version": "3.8.8"
  }
 },
 "nbformat": 4,
 "nbformat_minor": 5
}
