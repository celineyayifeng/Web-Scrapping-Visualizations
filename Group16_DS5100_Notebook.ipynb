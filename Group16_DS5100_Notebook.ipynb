{
  "nbformat": 4,
  "nbformat_minor": 5,
  "metadata": {
    "kernelspec": {
      "display_name": "Python 3",
      "language": "python",
      "name": "python3"
    },
    "language_info": {
      "codemirror_mode": {
        "name": "ipython",
        "version": 3
      },
      "file_extension": ".py",
      "mimetype": "text/x-python",
      "name": "python",
      "nbconvert_exporter": "python",
      "pygments_lexer": "ipython3",
      "version": "3.8.8"
    },
    "colab": {
      "name": "Group16_DS5100_Notebook.ipynb",
      "provenance": [],
      "collapsed_sections": [],
      "include_colab_link": true
    }
  },
  "cells": [
    {
      "cell_type": "markdown",
      "metadata": {
        "id": "view-in-github",
        "colab_type": "text"
      },
      "source": [
        "<a href=\"https://colab.research.google.com/github/celineyayifeng/ds6001/blob/main/Group16_DS5100_Notebook.ipynb\" target=\"_parent\"><img src=\"https://colab.research.google.com/assets/colab-badge.svg\" alt=\"Open In Colab\"/></a>"
      ]
    },
    {
      "cell_type": "code",
      "metadata": {
        "id": "0b42047b-3952-4941-88dd-142acffbf5ef"
      },
      "source": [
        "import pandas as pd\n",
        "import numpy as np\n",
        "import seaborn as sns\n",
        "import matplotlib.pyplot as plt\n",
        "import sys\n",
        "import unittest\n",
        "\n",
        "from sklearn import metrics\n",
        "from statsmodels.stats.outliers_influence import variance_inflation_factor\n",
        "from statsmodels.tools.tools import add_constant\n",
        "from sklearn.linear_model import LogisticRegression\n",
        "from sklearn.model_selection import train_test_split\n",
        "from pylab import savefig"
      ],
      "id": "0b42047b-3952-4941-88dd-142acffbf5ef",
      "execution_count": null,
      "outputs": []
    },
    {
      "cell_type": "code",
      "metadata": {
        "colab": {
          "base_uri": "https://localhost:8080/",
          "height": 204
        },
        "id": "970aee69-20ea-4deb-b8cb-bd5720abfcfb",
        "outputId": "dca21db0-cbbc-45d0-ce21-d5ed34d953bc"
      },
      "source": [
        "data = pd.read_csv('diabetes.csv')\n",
        "\n",
        "# check all the columns\n",
        "data.head()"
      ],
      "id": "970aee69-20ea-4deb-b8cb-bd5720abfcfb",
      "execution_count": null,
      "outputs": [
        {
          "output_type": "execute_result",
          "data": {
            "text/html": [
              "<div>\n",
              "<style scoped>\n",
              "    .dataframe tbody tr th:only-of-type {\n",
              "        vertical-align: middle;\n",
              "    }\n",
              "\n",
              "    .dataframe tbody tr th {\n",
              "        vertical-align: top;\n",
              "    }\n",
              "\n",
              "    .dataframe thead th {\n",
              "        text-align: right;\n",
              "    }\n",
              "</style>\n",
              "<table border=\"1\" class=\"dataframe\">\n",
              "  <thead>\n",
              "    <tr style=\"text-align: right;\">\n",
              "      <th></th>\n",
              "      <th>Pregnancies</th>\n",
              "      <th>Glucose</th>\n",
              "      <th>BloodPressure</th>\n",
              "      <th>SkinThickness</th>\n",
              "      <th>Insulin</th>\n",
              "      <th>BMI</th>\n",
              "      <th>DiabetesPedigreeFunction</th>\n",
              "      <th>Age</th>\n",
              "      <th>Outcome</th>\n",
              "    </tr>\n",
              "  </thead>\n",
              "  <tbody>\n",
              "    <tr>\n",
              "      <th>0</th>\n",
              "      <td>6</td>\n",
              "      <td>148</td>\n",
              "      <td>72</td>\n",
              "      <td>35</td>\n",
              "      <td>0</td>\n",
              "      <td>33.6</td>\n",
              "      <td>0.627</td>\n",
              "      <td>50</td>\n",
              "      <td>1</td>\n",
              "    </tr>\n",
              "    <tr>\n",
              "      <th>1</th>\n",
              "      <td>1</td>\n",
              "      <td>85</td>\n",
              "      <td>66</td>\n",
              "      <td>29</td>\n",
              "      <td>0</td>\n",
              "      <td>26.6</td>\n",
              "      <td>0.351</td>\n",
              "      <td>31</td>\n",
              "      <td>0</td>\n",
              "    </tr>\n",
              "    <tr>\n",
              "      <th>2</th>\n",
              "      <td>8</td>\n",
              "      <td>183</td>\n",
              "      <td>64</td>\n",
              "      <td>0</td>\n",
              "      <td>0</td>\n",
              "      <td>23.3</td>\n",
              "      <td>0.672</td>\n",
              "      <td>32</td>\n",
              "      <td>1</td>\n",
              "    </tr>\n",
              "    <tr>\n",
              "      <th>3</th>\n",
              "      <td>1</td>\n",
              "      <td>89</td>\n",
              "      <td>66</td>\n",
              "      <td>23</td>\n",
              "      <td>94</td>\n",
              "      <td>28.1</td>\n",
              "      <td>0.167</td>\n",
              "      <td>21</td>\n",
              "      <td>0</td>\n",
              "    </tr>\n",
              "    <tr>\n",
              "      <th>4</th>\n",
              "      <td>0</td>\n",
              "      <td>137</td>\n",
              "      <td>40</td>\n",
              "      <td>35</td>\n",
              "      <td>168</td>\n",
              "      <td>43.1</td>\n",
              "      <td>2.288</td>\n",
              "      <td>33</td>\n",
              "      <td>1</td>\n",
              "    </tr>\n",
              "  </tbody>\n",
              "</table>\n",
              "</div>"
            ],
            "text/plain": [
              "   Pregnancies  Glucose  BloodPressure  ...  DiabetesPedigreeFunction  Age  Outcome\n",
              "0            6      148             72  ...                     0.627   50        1\n",
              "1            1       85             66  ...                     0.351   31        0\n",
              "2            8      183             64  ...                     0.672   32        1\n",
              "3            1       89             66  ...                     0.167   21        0\n",
              "4            0      137             40  ...                     2.288   33        1\n",
              "\n",
              "[5 rows x 9 columns]"
            ]
          },
          "metadata": {
            "tags": []
          },
          "execution_count": 32
        }
      ]
    },
    {
      "cell_type": "code",
      "metadata": {
        "id": "a52e2f64-627c-4b29-803e-7de3740c4c81",
        "colab": {
          "base_uri": "https://localhost:8080/"
        },
        "outputId": "d6468b92-7ca4-4b48-daf7-dc6956db3ee7"
      },
      "source": [
        "data.dtypes"
      ],
      "id": "a52e2f64-627c-4b29-803e-7de3740c4c81",
      "execution_count": null,
      "outputs": [
        {
          "output_type": "execute_result",
          "data": {
            "text/plain": [
              "Pregnancies                   int64\n",
              "Glucose                       int64\n",
              "BloodPressure                 int64\n",
              "SkinThickness                 int64\n",
              "Insulin                       int64\n",
              "BMI                         float64\n",
              "DiabetesPedigreeFunction    float64\n",
              "Age                           int64\n",
              "Outcome                       int64\n",
              "dtype: object"
            ]
          },
          "metadata": {
            "tags": []
          },
          "execution_count": 33
        }
      ]
    },
    {
      "cell_type": "code",
      "metadata": {
        "id": "5bddtAekJ4xQ"
      },
      "source": [
        "def cleanZeros(df, exclusions=None):\n",
        "    exclusions = [] if exclusions is None else exclusions\n",
        "    for (columnName, columnData) in df.iteritems():\n",
        "        if (columnName not in exclusions):\n",
        "            df = df[df[columnName]>0]\n",
        "    return df"
      ],
      "id": "5bddtAekJ4xQ",
      "execution_count": null,
      "outputs": []
    },
    {
      "cell_type": "code",
      "metadata": {
        "colab": {
          "base_uri": "https://localhost:8080/"
        },
        "id": "a6rkwJGIO955",
        "outputId": "c0733eb0-0373-4b26-d931-f889cd6d691e"
      },
      "source": [
        "def test_cleanZeros():\n",
        "    \n",
        "        cleaned_df = cleanZeros(data, exclusions = ['Pregnancies','Outcome'])\n",
        "        counts = 0\n",
        "        for i in cleaned_df['Glucose']:\n",
        "            if i == 0:\n",
        "                counts += 1 \n",
        "  \n",
        "        expected = 0 \n",
        "\n",
        "        assert counts == expected\n",
        "\n",
        "if __name__ == \"__main__\":\n",
        "    test_cleanZeros()\n",
        "    print(\"Everything passed\")"
      ],
      "id": "a6rkwJGIO955",
      "execution_count": null,
      "outputs": [
        {
          "output_type": "stream",
          "text": [
            "Everything passed\n"
          ],
          "name": "stdout"
        }
      ]
    },
    {
      "cell_type": "code",
      "metadata": {
        "colab": {
          "base_uri": "https://localhost:8080/"
        },
        "id": "l9T1oY11K3Tg",
        "outputId": "79067313-c768-43f2-cfe6-27df0c4d33db"
      },
      "source": [
        "data = cleanZeros(data, ['Pregnancies', 'Outcome'])\n",
        "data.shape"
      ],
      "id": "l9T1oY11K3Tg",
      "execution_count": null,
      "outputs": [
        {
          "output_type": "execute_result",
          "data": {
            "text/plain": [
              "(392, 9)"
            ]
          },
          "metadata": {
            "tags": []
          },
          "execution_count": 36
        }
      ]
    },
    {
      "cell_type": "code",
      "metadata": {
        "colab": {
          "base_uri": "https://localhost:8080/"
        },
        "id": "dPTrvv4FP7X3",
        "outputId": "e663e8d3-57bb-4d82-b179-96b95d1de69d"
      },
      "source": [
        "def find_mean_outcome(df, predictor_variable, outcome_variable):\n",
        "  new_df = df.groupby(outcome_variable).mean()\n",
        "  return new_df[predictor_variable]\n",
        "\n",
        "test_df = pd.DataFrame({'a':[1,2,3,4], 'b':[0,1,0,1]})\n",
        "\n",
        "def test_find_mean_outcome():\n",
        "\n",
        "  test_mean_df = find_mean_outcome(test_df, 'a', 'b')\n",
        "  test_mean_count = test_mean_df.iloc[0]\n",
        "\n",
        "  expected = 2\n",
        "\n",
        "  assert test_mean_count == expected\n",
        "\n",
        "if __name__ == \"__main__\":\n",
        "    test_find_mean_outcome()\n",
        "    print(\"Everything passed\")"
      ],
      "id": "dPTrvv4FP7X3",
      "execution_count": null,
      "outputs": [
        {
          "output_type": "stream",
          "text": [
            "Everything passed\n"
          ],
          "name": "stdout"
        }
      ]
    },
    {
      "cell_type": "code",
      "metadata": {
        "id": "a479ccd3-eca9-4961-bc0c-df54f0b91ebe",
        "colab": {
          "base_uri": "https://localhost:8080/",
          "height": 607
        },
        "outputId": "128fd8eb-4b62-4dd5-defe-1b2f5d9f56df"
      },
      "source": [
        "# Get correlations of each features in dataset\n",
        "\n",
        "corr = data.corr()\n",
        "\n",
        "top_corr_features = corr.index\n",
        "plt.figure(figsize=(12,8))\n",
        "\n",
        "# Plot heatmap\n",
        "\n",
        "g = sns.heatmap(data[top_corr_features].corr(), annot=True, cmap=\"Blues\")"
      ],
      "id": "a479ccd3-eca9-4961-bc0c-df54f0b91ebe",
      "execution_count": null,
      "outputs": [
        {
          "output_type": "display_data",
          "data": {
            "image/png": "[encoded data removed]",
            "text/plain": [
              "<Figure size 864x576 with 2 Axes>"
            ]
          },
          "metadata": {
            "tags": [],
            "needs_background": "light"
          }
        }
      ]
    },
    {
      "cell_type": "code",
      "metadata": {
        "id": "X8FKCHUFQfcH"
      },
      "source": [
        "figure = g.get_figure()    \n",
        "figure.savefig('heatmap.png', dpi=400)"
      ],
      "id": "X8FKCHUFQfcH",
      "execution_count": null,
      "outputs": []
    },
    {
      "cell_type": "code",
      "metadata": {
        "id": "z2-dzlz_wufy",
        "colab": {
          "base_uri": "https://localhost:8080/"
        },
        "outputId": "6bf8d27e-b18a-4918-da2f-046014fdb0b1"
      },
      "source": [
        "corr['Outcome'].sort_values(ascending=False)"
      ],
      "id": "z2-dzlz_wufy",
      "execution_count": null,
      "outputs": [
        {
          "output_type": "execute_result",
          "data": {
            "text/plain": [
              "Outcome                     1.000000\n",
              "Glucose                     0.515703\n",
              "Age                         0.350804\n",
              "Insulin                     0.301429\n",
              "BMI                         0.270118\n",
              "Pregnancies                 0.256566\n",
              "SkinThickness               0.255936\n",
              "DiabetesPedigreeFunction    0.209330\n",
              "BloodPressure               0.192673\n",
              "Name: Outcome, dtype: float64"
            ]
          },
          "metadata": {
            "tags": []
          },
          "execution_count": 40
        }
      ]
    },
    {
      "cell_type": "code",
      "metadata": {
        "id": "iyMqrADGZEiJ",
        "colab": {
          "base_uri": "https://localhost:8080/",
          "height": 142
        },
        "outputId": "033610c0-57f8-4b40-8fcb-604b417f263f"
      },
      "source": [
        "data.groupby('Outcome').mean()"
      ],
      "id": "iyMqrADGZEiJ",
      "execution_count": null,
      "outputs": [
        {
          "output_type": "execute_result",
          "data": {
            "text/html": [
              "<div>\n",
              "<style scoped>\n",
              "    .dataframe tbody tr th:only-of-type {\n",
              "        vertical-align: middle;\n",
              "    }\n",
              "\n",
              "    .dataframe tbody tr th {\n",
              "        vertical-align: top;\n",
              "    }\n",
              "\n",
              "    .dataframe thead th {\n",
              "        text-align: right;\n",
              "    }\n",
              "</style>\n",
              "<table border=\"1\" class=\"dataframe\">\n",
              "  <thead>\n",
              "    <tr style=\"text-align: right;\">\n",
              "      <th></th>\n",
              "      <th>Pregnancies</th>\n",
              "      <th>Glucose</th>\n",
              "      <th>BloodPressure</th>\n",
              "      <th>SkinThickness</th>\n",
              "      <th>Insulin</th>\n",
              "      <th>BMI</th>\n",
              "      <th>DiabetesPedigreeFunction</th>\n",
              "      <th>Age</th>\n",
              "    </tr>\n",
              "    <tr>\n",
              "      <th>Outcome</th>\n",
              "      <th></th>\n",
              "      <th></th>\n",
              "      <th></th>\n",
              "      <th></th>\n",
              "      <th></th>\n",
              "      <th></th>\n",
              "      <th></th>\n",
              "      <th></th>\n",
              "    </tr>\n",
              "  </thead>\n",
              "  <tbody>\n",
              "    <tr>\n",
              "      <th>0</th>\n",
              "      <td>2.721374</td>\n",
              "      <td>111.431298</td>\n",
              "      <td>68.969466</td>\n",
              "      <td>27.251908</td>\n",
              "      <td>130.854962</td>\n",
              "      <td>31.750763</td>\n",
              "      <td>0.472168</td>\n",
              "      <td>28.347328</td>\n",
              "    </tr>\n",
              "    <tr>\n",
              "      <th>1</th>\n",
              "      <td>4.469231</td>\n",
              "      <td>145.192308</td>\n",
              "      <td>74.076923</td>\n",
              "      <td>32.961538</td>\n",
              "      <td>206.846154</td>\n",
              "      <td>35.777692</td>\n",
              "      <td>0.625585</td>\n",
              "      <td>35.938462</td>\n",
              "    </tr>\n",
              "  </tbody>\n",
              "</table>\n",
              "</div>"
            ],
            "text/plain": [
              "         Pregnancies     Glucose  ...  DiabetesPedigreeFunction        Age\n",
              "Outcome                           ...                                     \n",
              "0           2.721374  111.431298  ...                  0.472168  28.347328\n",
              "1           4.469231  145.192308  ...                  0.625585  35.938462\n",
              "\n",
              "[2 rows x 8 columns]"
            ]
          },
          "metadata": {
            "tags": []
          },
          "execution_count": 41
        }
      ]
    },
    {
      "cell_type": "code",
      "metadata": {
        "colab": {
          "base_uri": "https://localhost:8080/"
        },
        "id": "Y84aplPCKa88",
        "outputId": "39773947-f352-4477-c281-8dea13e06f0d"
      },
      "source": [
        "print(find_mean_outcome(data, 'Glucose', 'Outcome'))"
      ],
      "id": "Y84aplPCKa88",
      "execution_count": null,
      "outputs": [
        {
          "output_type": "stream",
          "text": [
            "Outcome\n",
            "0    111.431298\n",
            "1    145.192308\n",
            "Name: Glucose, dtype: float64\n"
          ],
          "name": "stdout"
        }
      ]
    },
    {
      "cell_type": "code",
      "metadata": {
        "id": "23U2yAPB5woD",
        "colab": {
          "base_uri": "https://localhost:8080/",
          "height": 514
        },
        "outputId": "a1546a64-074c-4266-ba54-732cf3a1394c"
      },
      "source": [
        "# Plotting all the subplots\n",
        "fig, axs = plt.subplots(nrows=2, ncols=2, figsize = (16,8))\n",
        "sns.boxplot(x='Outcome', y='Glucose', data=data, ax=axs[0,0])\n",
        "#sns.regplot(x='value', y='wage', data=df_melt, ax=axs[0,1])\n",
        "#sns.boxplot(x='education',y='wage', data=df_melt, ax=axs[2])\n",
        "sns.boxplot(x='Outcome', y='BMI', data=data, ax=axs[0,1])\n",
        "sns.boxplot(x='Outcome', y='Insulin', data=data, ax=axs[1,1])\n",
        "sns.boxplot(x='Outcome', y='Age', data=data, ax=axs[1,0])"
      ],
      "id": "23U2yAPB5woD",
      "execution_count": null,
      "outputs": [
        {
          "output_type": "execute_result",
          "data": {
            "text/plain": [
              "<matplotlib.axes._subplots.AxesSubplot at 0x7fa15258a810>"
            ]
          },
          "metadata": {
            "tags": []
          },
          "execution_count": 43
        },
        {
          "output_type": "display_data",
          "data": {
            "image/png": "[encoded data removed]",
            "text/plain": [
              "<Figure size 1152x576 with 4 Axes>"
            ]
          },
          "metadata": {
            "tags": [],
            "needs_background": "light"
          }
        }
      ]
    },
    {
      "cell_type": "code",
      "metadata": {
        "id": "TEe_CWq7iUl1",
        "colab": {
          "base_uri": "https://localhost:8080/",
          "height": 514
        },
        "outputId": "47b7f89f-5770-4308-82aa-43c8173aa198"
      },
      "source": [
        "# Plotting all the subplots\n",
        "fig, axs = plt.subplots(nrows=2, ncols=2, figsize = (16,8))\n",
        "sns.boxplot(x='Outcome', y='Pregnancies', data=data, ax=axs[0,0])\n",
        "#sns.regplot(x='value', y='wage', data=df_melt, ax=axs[0,1])\n",
        "#sns.boxplot(x='education',y='wage', data=df_melt, ax=axs[2])\n",
        "sns.boxplot(x='Outcome', y='BloodPressure', data=data, ax=axs[0,1])\n",
        "sns.boxplot(x='Outcome', y='DiabetesPedigreeFunction', data=data, ax=axs[1,1])\n",
        "sns.boxplot(x='Outcome', y='SkinThickness', data=data, ax=axs[1,0])"
      ],
      "id": "TEe_CWq7iUl1",
      "execution_count": null,
      "outputs": [
        {
          "output_type": "execute_result",
          "data": {
            "text/plain": [
              "<matplotlib.axes._subplots.AxesSubplot at 0x7fa152388590>"
            ]
          },
          "metadata": {
            "tags": []
          },
          "execution_count": 44
        },
        {
          "output_type": "display_data",
          "data": {
            "image/png": "[encoded data removed]",
            "text/plain": [
              "<Figure size 1152x576 with 4 Axes>"
            ]
          },
          "metadata": {
            "tags": [],
            "needs_background": "light"
          }
        }
      ]
    },
    {
      "cell_type": "code",
      "metadata": {
        "id": "wDoHOqP85Hvu",
        "colab": {
          "base_uri": "https://localhost:8080/",
          "height": 296
        },
        "outputId": "c50682f6-bf22-4691-82e3-8d288dd60c97"
      },
      "source": [
        "sns.histplot(data['Glucose'])"
      ],
      "id": "wDoHOqP85Hvu",
      "execution_count": null,
      "outputs": [
        {
          "output_type": "execute_result",
          "data": {
            "text/plain": [
              "<matplotlib.axes._subplots.AxesSubplot at 0x7fa15263ebd0>"
            ]
          },
          "metadata": {
            "tags": []
          },
          "execution_count": 45
        },
        {
          "output_type": "display_data",
          "data": {
            "image/png": "[encoded data removed]",
            "text/plain": [
              "<Figure size 432x288 with 1 Axes>"
            ]
          },
          "metadata": {
            "tags": [],
            "needs_background": "light"
          }
        }
      ]
    },
    {
      "cell_type": "code",
      "metadata": {
        "id": "8OlO5erR6WN8",
        "colab": {
          "base_uri": "https://localhost:8080/",
          "height": 296
        },
        "outputId": "eeb33b0e-b6b4-4af4-bce1-e7e2ba9ade03"
      },
      "source": [
        "sns.histplot(data['Insulin'])"
      ],
      "id": "8OlO5erR6WN8",
      "execution_count": null,
      "outputs": [
        {
          "output_type": "execute_result",
          "data": {
            "text/plain": [
              "<matplotlib.axes._subplots.AxesSubplot at 0x7fa1521a6b50>"
            ]
          },
          "metadata": {
            "tags": []
          },
          "execution_count": 46
        },
        {
          "output_type": "display_data",
          "data": {
            "image/png": "[encoded data removed]",
            "text/plain": [
              "<Figure size 432x288 with 1 Axes>"
            ]
          },
          "metadata": {
            "tags": [],
            "needs_background": "light"
          }
        }
      ]
    },
    {
      "cell_type": "markdown",
      "metadata": {
        "id": "hG9gTbYSxwFd"
      },
      "source": [
        "Logistic Regression"
      ],
      "id": "hG9gTbYSxwFd"
    },
    {
      "cell_type": "code",
      "metadata": {
        "id": "wEifreoPPhpc"
      },
      "source": [
        "#separate independent and dependent variables\n",
        "X=data.iloc[:,:-1]\n",
        "y=data.iloc[:,-1]"
      ],
      "id": "wEifreoPPhpc",
      "execution_count": null,
      "outputs": []
    },
    {
      "cell_type": "code",
      "metadata": {
        "id": "6DpRe-JAVrsy"
      },
      "source": [
        "#create training and test sets\n",
        "X_train, X_test, y_train, y_test =train_test_split(X, y, test_size=0.3, random_state=3)\n"
      ],
      "id": "6DpRe-JAVrsy",
      "execution_count": null,
      "outputs": []
    },
    {
      "cell_type": "code",
      "metadata": {
        "id": "D6xrNVpbW06O"
      },
      "source": [
        "means = np.mean(X_train, axis=0)\n",
        "stds = np.std(X_train, axis=0)\n",
        "X_train = (X_train - means)/stds\n",
        "X_test = (X_test - means)/stds"
      ],
      "id": "D6xrNVpbW06O",
      "execution_count": null,
      "outputs": []
    },
    {
      "cell_type": "code",
      "metadata": {
        "id": "2lcvO_YrZ8IS",
        "colab": {
          "base_uri": "https://localhost:8080/"
        },
        "outputId": "da25c349-e4c6-4889-96e0-9b6ba260c1fc"
      },
      "source": [
        "LR=LogisticRegression(C=1,penalty='l2')\n",
        "LR.fit(X_train,y_train)\n",
        "\n",
        "print(\"Test Set Accuracy:\"+str(metrics.accuracy_score(y_test,LR.predict(X_test))*100))\n",
        "\n",
        "score = metrics.accuracy_score(y_test,LR.predict(X_test))\n"
      ],
      "id": "2lcvO_YrZ8IS",
      "execution_count": null,
      "outputs": [
        {
          "output_type": "stream",
          "text": [
            "Test Set Accuracy:77.11864406779661\n"
          ],
          "name": "stdout"
        }
      ]
    },
    {
      "cell_type": "code",
      "metadata": {
        "id": "UGGD9VghZIgG",
        "colab": {
          "base_uri": "https://localhost:8080/",
          "height": 554
        },
        "outputId": "f7b298a6-efbb-4787-9229-4e2b8206bcf1"
      },
      "source": [
        "#confusion matrix to test for accuracy\n",
        "\n",
        "y_predict = LR.predict(X_test)\n",
        "\n",
        "cm = metrics.confusion_matrix(y_test, y_predict)\n",
        "print(cm)\n",
        "\n",
        "\n",
        "plt.figure(figsize=(9,9))\n",
        "sns.heatmap(cm, annot=True, fmt=\".3f\", linewidths=.5, square = True, cmap = 'Blues_r');\n",
        "plt.ylabel('Actual label');\n",
        "plt.xlabel('Predicted label');\n",
        "all_sample_title = 'Accuracy Score: {0}'.format(score)\n",
        "plt.title(all_sample_title, size = 15);\n"
      ],
      "id": "UGGD9VghZIgG",
      "execution_count": null,
      "outputs": [
        {
          "output_type": "stream",
          "text": [
            "[[71 12]\n",
            " [15 20]]\n"
          ],
          "name": "stdout"
        },
        {
          "output_type": "display_data",
          "data": {
            "image/png": "[encoded data removed]",
            "text/plain": [
              "<Figure size 648x648 with 2 Axes>"
            ]
          },
          "metadata": {
            "tags": [],
            "needs_background": "light"
          }
        }
      ]
    },
    {
      "cell_type": "code",
      "metadata": {
        "colab": {
          "base_uri": "https://localhost:8080/",
          "height": 405
        },
        "id": "Fzof5ql9TUti",
        "outputId": "201897b5-61b8-477b-ec2a-1fcf18a7c3d8"
      },
      "source": [
        "coeff = list(LR.coef_[0])\n",
        "labels = list(X_train.columns)\n",
        "features = pd.DataFrame()\n",
        "features['Features'] = labels\n",
        "features['importance'] = coeff\n",
        "features.sort_values(by=['importance'], ascending=True, inplace=True)\n",
        "features['positive'] = features['importance'] > 0\n",
        "features.set_index('Features', inplace=True)\n",
        "features.importance.plot(kind='barh', figsize=(11, 6),color = features.positive.map({True: 'blue', False: 'orange'}))\n",
        "plt.xlabel('Importance')"
      ],
      "id": "Fzof5ql9TUti",
      "execution_count": null,
      "outputs": [
        {
          "output_type": "execute_result",
          "data": {
            "text/plain": [
              "Text(0.5, 0, 'Importance')"
            ]
          },
          "metadata": {
            "tags": []
          },
          "execution_count": 52
        },
        {
          "output_type": "display_data",
          "data": {
            "image/png": "[encoded data removed]",
            "text/plain": [
              "<Figure size 792x432 with 1 Axes>"
            ]
          },
          "metadata": {
            "tags": [],
            "needs_background": "light"
          }
        }
      ]
    },
    {
      "cell_type": "code",
      "metadata": {
        "id": "kJm_AUd5azvX",
        "colab": {
          "base_uri": "https://localhost:8080/"
        },
        "outputId": "ec2d0b45-38fc-43c5-81c7-e821ca498e54"
      },
      "source": [
        "X = add_constant(data)\n",
        "pd.Series([variance_inflation_factor(X.values, i) \n",
        "               for i in range(X.shape[1])], \n",
        "              index=X.columns)"
      ],
      "id": "kJm_AUd5azvX",
      "execution_count": null,
      "outputs": [
        {
          "output_type": "execute_result",
          "data": {
            "text/plain": [
              "const                       62.822822\n",
              "Pregnancies                  1.912621\n",
              "Glucose                      1.939119\n",
              "BloodPressure                1.231818\n",
              "SkinThickness                1.854913\n",
              "Insulin                      1.557621\n",
              "BMI                          2.009136\n",
              "DiabetesPedigreeFunction     1.079602\n",
              "Age                          2.154163\n",
              "Outcome                      1.528522\n",
              "dtype: float64"
            ]
          },
          "metadata": {
            "tags": []
          },
          "execution_count": 53
        }
      ]
    },
    {
      "cell_type": "code",
      "metadata": {
        "id": "llB_YCA7vkUG",
        "colab": {
          "base_uri": "https://localhost:8080/"
        },
        "outputId": "5568d733-397d-4b89-f314-104bd17f9b24"
      },
      "source": [
        "# no skill prediction\n",
        "ns_probs = [0 for _ in range(len(y_test))]\n",
        "# predict probs\n",
        "lr_probs = LR.predict_proba(X_test)\n",
        "# only keep probabilities for positive outcome\n",
        "lr_probs = lr_probs[:, 1]\n",
        "\n",
        "# auc scores\n",
        "ns_auc = metrics.roc_auc_score(y_test, ns_probs)\n",
        "lr_auc = metrics.roc_auc_score(y_test, lr_probs)\n",
        "\n",
        "print(ns_auc)\n",
        "print(lr_auc)"
      ],
      "id": "llB_YCA7vkUG",
      "execution_count": null,
      "outputs": [
        {
          "output_type": "stream",
          "text": [
            "0.5\n",
            "0.8554216867469879\n"
          ],
          "name": "stdout"
        }
      ]
    },
    {
      "cell_type": "code",
      "metadata": {
        "colab": {
          "base_uri": "https://localhost:8080/",
          "height": 296
        },
        "id": "8omr4-M_4tiw",
        "outputId": "29eb2a22-36c1-47b2-cd52-051401903e75"
      },
      "source": [
        "# calculate roc curves\n",
        "ns_fpr, ns_tpr, _ = roc_curve(y_test, ns_probs)\n",
        "lr_fpr, lr_tpr, _ = roc_curve(y_test, lr_probs)\n",
        "# plot the roc curve for the model\n",
        "plt.plot(ns_fpr, ns_tpr, linestyle='--', label='No Skill')\n",
        "plt.plot(lr_fpr, lr_tpr, marker='.', label='Logistic')\n",
        "# axis labels\n",
        "plt.xlabel('False Positive Rate')\n",
        "plt.ylabel('True Positive Rate')\n",
        "# show the legend\n",
        "plt.legend()\n",
        "# show the plot\n",
        "plt.show()"
      ],
      "id": "8omr4-M_4tiw",
      "execution_count": null,
      "outputs": [
        {
          "output_type": "display_data",
          "data": {
            "image/png": "[encoded data removed]",
            "text/plain": [
              "<Figure size 432x288 with 1 Axes>"
            ]
          },
          "metadata": {
            "tags": [],
            "needs_background": "light"
          }
        },
        {
          "output_type": "display_data",
          "data": {
            "text/plain": [
              "<Figure size 432x288 with 0 Axes>"
            ]
          },
          "metadata": {
            "tags": []
          }
        }
      ]
    },
    {
      "cell_type": "markdown",
      "metadata": {
        "id": "jAQ2ryorKfc3"
      },
      "source": [
        "References\n",
        " \n",
        "   Title: Logistic Regression using Python\n",
        "*    Author: Galarnyk, M\n",
        "*    Date: 2017\n",
        "*    Code version: 1.0\n",
        "*    Availability: https://towardsdatascience.com/logistic-regression-using-python-sklearn-numpy-mnist-handwriting-recognition-matplotlib-*a6b31e2b166a*\n",
        "\n"
      ],
      "id": "jAQ2ryorKfc3"
    }
  ]
}